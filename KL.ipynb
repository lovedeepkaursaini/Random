{
 "cells": [
  {
   "cell_type": "code",
   "execution_count": 1,
   "metadata": {
    "collapsed": true
   },
   "outputs": [],
   "source": [
    "import pandas as pd\n",
    "import numpy as np\n",
    "import matplotlib.pyplot as plt\n",
    "%matplotlib inline"
   ]
  },
  {
   "cell_type": "code",
   "execution_count": 2,
   "metadata": {
    "collapsed": true
   },
   "outputs": [],
   "source": [
    "air_reserve = pd.read_csv('input/air_reserve.csv',parse_dates=['visit_datetime','reserve_datetime'])\n",
    "hpg_reserve = pd.read_csv('input/hpg_reserve.csv',parse_dates=['visit_datetime','reserve_datetime'])\n",
    "air_store_info = pd.read_csv('input/air_store_info.csv')\n",
    "hpg_store_info = pd.read_csv('input/hpg_store_info.csv')\n",
    "store_relation = pd.read_csv('input/store_id_relation.csv')\n",
    "date_info = pd.read_csv('input/date_info.csv',parse_dates=['calendar_date'])\n",
    "air_visit = pd.read_csv('input/air_visit_data.csv',parse_dates=['visit_date'])\n",
    "sample_submission = pd.read_csv('input/sample_submission.csv')"
   ]
  },
  {
   "cell_type": "code",
   "execution_count": 3,
   "metadata": {
    "collapsed": true
   },
   "outputs": [],
   "source": [
    "hpg_reserve['visit_year'] = hpg_reserve['visit_datetime'].dt.year\n",
    "hpg_reserve['visit_month'] = hpg_reserve['visit_datetime'].dt.month\n",
    "hpg_reserve['visit_day'] = hpg_reserve['visit_datetime'].dt.day\n",
    "hpg_reserve['reserve_year'] = hpg_reserve['reserve_datetime'].dt.year\n",
    "hpg_reserve['reserve_month'] = hpg_reserve['reserve_datetime'].dt.month\n",
    "hpg_reserve['reserve_day'] = hpg_reserve['reserve_datetime'].dt.day\n",
    "\n",
    "hpg_reserve.drop(['visit_datetime','reserve_datetime'], axis=1, inplace=True)"
   ]
  },
  {
   "cell_type": "code",
   "execution_count": 4,
   "metadata": {},
   "outputs": [
    {
     "data": {
      "text/html": [
       "<div>\n",
       "<style>\n",
       "    .dataframe thead tr:only-child th {\n",
       "        text-align: right;\n",
       "    }\n",
       "\n",
       "    .dataframe thead th {\n",
       "        text-align: left;\n",
       "    }\n",
       "\n",
       "    .dataframe tbody tr th {\n",
       "        vertical-align: top;\n",
       "    }\n",
       "</style>\n",
       "<table border=\"1\" class=\"dataframe\">\n",
       "  <thead>\n",
       "    <tr style=\"text-align: right;\">\n",
       "      <th></th>\n",
       "      <th>hpg_store_id</th>\n",
       "      <th>reserve_visitors</th>\n",
       "      <th>visit_year</th>\n",
       "      <th>visit_month</th>\n",
       "      <th>visit_day</th>\n",
       "      <th>reserve_year</th>\n",
       "      <th>reserve_month</th>\n",
       "      <th>reserve_day</th>\n",
       "    </tr>\n",
       "  </thead>\n",
       "  <tbody>\n",
       "    <tr>\n",
       "      <th>0</th>\n",
       "      <td>hpg_c63f6f42e088e50f</td>\n",
       "      <td>1</td>\n",
       "      <td>2016</td>\n",
       "      <td>1</td>\n",
       "      <td>1</td>\n",
       "      <td>2016</td>\n",
       "      <td>1</td>\n",
       "      <td>1</td>\n",
       "    </tr>\n",
       "    <tr>\n",
       "      <th>1</th>\n",
       "      <td>hpg_dac72789163a3f47</td>\n",
       "      <td>3</td>\n",
       "      <td>2016</td>\n",
       "      <td>1</td>\n",
       "      <td>1</td>\n",
       "      <td>2016</td>\n",
       "      <td>1</td>\n",
       "      <td>1</td>\n",
       "    </tr>\n",
       "    <tr>\n",
       "      <th>2</th>\n",
       "      <td>hpg_c8e24dcf51ca1eb5</td>\n",
       "      <td>2</td>\n",
       "      <td>2016</td>\n",
       "      <td>1</td>\n",
       "      <td>1</td>\n",
       "      <td>2016</td>\n",
       "      <td>1</td>\n",
       "      <td>1</td>\n",
       "    </tr>\n",
       "    <tr>\n",
       "      <th>3</th>\n",
       "      <td>hpg_24bb207e5fd49d4a</td>\n",
       "      <td>5</td>\n",
       "      <td>2016</td>\n",
       "      <td>1</td>\n",
       "      <td>1</td>\n",
       "      <td>2016</td>\n",
       "      <td>1</td>\n",
       "      <td>1</td>\n",
       "    </tr>\n",
       "    <tr>\n",
       "      <th>4</th>\n",
       "      <td>hpg_25291c542ebb3bc2</td>\n",
       "      <td>13</td>\n",
       "      <td>2016</td>\n",
       "      <td>1</td>\n",
       "      <td>1</td>\n",
       "      <td>2016</td>\n",
       "      <td>1</td>\n",
       "      <td>1</td>\n",
       "    </tr>\n",
       "  </tbody>\n",
       "</table>\n",
       "</div>"
      ],
      "text/plain": [
       "           hpg_store_id  reserve_visitors  visit_year  visit_month  visit_day  \\\n",
       "0  hpg_c63f6f42e088e50f                 1        2016            1          1   \n",
       "1  hpg_dac72789163a3f47                 3        2016            1          1   \n",
       "2  hpg_c8e24dcf51ca1eb5                 2        2016            1          1   \n",
       "3  hpg_24bb207e5fd49d4a                 5        2016            1          1   \n",
       "4  hpg_25291c542ebb3bc2                13        2016            1          1   \n",
       "\n",
       "   reserve_year  reserve_month  reserve_day  \n",
       "0          2016              1            1  \n",
       "1          2016              1            1  \n",
       "2          2016              1            1  \n",
       "3          2016              1            1  \n",
       "4          2016              1            1  "
      ]
     },
     "execution_count": 4,
     "metadata": {},
     "output_type": "execute_result"
    }
   ],
   "source": [
    "hpg_reserve.head()"
   ]
  },
  {
   "cell_type": "code",
   "execution_count": 5,
   "metadata": {},
   "outputs": [
    {
     "data": {
      "text/plain": [
       "(2000320, 8)"
      ]
     },
     "execution_count": 5,
     "metadata": {},
     "output_type": "execute_result"
    }
   ],
   "source": [
    "hpg_reserve.shape"
   ]
  },
  {
   "cell_type": "code",
   "execution_count": 6,
   "metadata": {
    "collapsed": true
   },
   "outputs": [],
   "source": [
    "hpg_reserve = hpg_reserve.groupby(['hpg_store_id', 'visit_year', 'visit_month',\\\n",
    "                                   'visit_day','reserve_year','reserve_month','reserve_day'], as_index=False).sum()"
   ]
  },
  {
   "cell_type": "code",
   "execution_count": 7,
   "metadata": {},
   "outputs": [
    {
     "data": {
      "text/html": [
       "<div>\n",
       "<style>\n",
       "    .dataframe thead tr:only-child th {\n",
       "        text-align: right;\n",
       "    }\n",
       "\n",
       "    .dataframe thead th {\n",
       "        text-align: left;\n",
       "    }\n",
       "\n",
       "    .dataframe tbody tr th {\n",
       "        vertical-align: top;\n",
       "    }\n",
       "</style>\n",
       "<table border=\"1\" class=\"dataframe\">\n",
       "  <thead>\n",
       "    <tr style=\"text-align: right;\">\n",
       "      <th></th>\n",
       "      <th>hpg_store_id</th>\n",
       "      <th>visit_year</th>\n",
       "      <th>visit_month</th>\n",
       "      <th>visit_day</th>\n",
       "      <th>reserve_year</th>\n",
       "      <th>reserve_month</th>\n",
       "      <th>reserve_day</th>\n",
       "      <th>reserve_visitors</th>\n",
       "    </tr>\n",
       "  </thead>\n",
       "  <tbody>\n",
       "    <tr>\n",
       "      <th>0</th>\n",
       "      <td>hpg_001112ef76b9802c</td>\n",
       "      <td>2016</td>\n",
       "      <td>2</td>\n",
       "      <td>26</td>\n",
       "      <td>2016</td>\n",
       "      <td>2</td>\n",
       "      <td>9</td>\n",
       "      <td>9</td>\n",
       "    </tr>\n",
       "    <tr>\n",
       "      <th>1</th>\n",
       "      <td>hpg_001112ef76b9802c</td>\n",
       "      <td>2016</td>\n",
       "      <td>3</td>\n",
       "      <td>17</td>\n",
       "      <td>2016</td>\n",
       "      <td>3</td>\n",
       "      <td>3</td>\n",
       "      <td>3</td>\n",
       "    </tr>\n",
       "    <tr>\n",
       "      <th>2</th>\n",
       "      <td>hpg_001112ef76b9802c</td>\n",
       "      <td>2016</td>\n",
       "      <td>3</td>\n",
       "      <td>31</td>\n",
       "      <td>2016</td>\n",
       "      <td>3</td>\n",
       "      <td>25</td>\n",
       "      <td>5</td>\n",
       "    </tr>\n",
       "    <tr>\n",
       "      <th>3</th>\n",
       "      <td>hpg_001112ef76b9802c</td>\n",
       "      <td>2016</td>\n",
       "      <td>4</td>\n",
       "      <td>5</td>\n",
       "      <td>2016</td>\n",
       "      <td>4</td>\n",
       "      <td>1</td>\n",
       "      <td>13</td>\n",
       "    </tr>\n",
       "    <tr>\n",
       "      <th>4</th>\n",
       "      <td>hpg_001112ef76b9802c</td>\n",
       "      <td>2016</td>\n",
       "      <td>4</td>\n",
       "      <td>18</td>\n",
       "      <td>2016</td>\n",
       "      <td>4</td>\n",
       "      <td>15</td>\n",
       "      <td>9</td>\n",
       "    </tr>\n",
       "  </tbody>\n",
       "</table>\n",
       "</div>"
      ],
      "text/plain": [
       "           hpg_store_id  visit_year  visit_month  visit_day  reserve_year  \\\n",
       "0  hpg_001112ef76b9802c        2016            2         26          2016   \n",
       "1  hpg_001112ef76b9802c        2016            3         17          2016   \n",
       "2  hpg_001112ef76b9802c        2016            3         31          2016   \n",
       "3  hpg_001112ef76b9802c        2016            4          5          2016   \n",
       "4  hpg_001112ef76b9802c        2016            4         18          2016   \n",
       "\n",
       "   reserve_month  reserve_day  reserve_visitors  \n",
       "0              2            9                 9  \n",
       "1              3            3                 3  \n",
       "2              3           25                 5  \n",
       "3              4            1                13  \n",
       "4              4           15                 9  "
      ]
     },
     "execution_count": 7,
     "metadata": {},
     "output_type": "execute_result"
    }
   ],
   "source": [
    "hpg_reserve.head()"
   ]
  },
  {
   "cell_type": "code",
   "execution_count": 8,
   "metadata": {},
   "outputs": [
    {
     "data": {
      "text/plain": [
       "(1879302, 8)"
      ]
     },
     "execution_count": 8,
     "metadata": {},
     "output_type": "execute_result"
    }
   ],
   "source": [
    "hpg_reserve.shape"
   ]
  },
  {
   "cell_type": "code",
   "execution_count": 9,
   "metadata": {
    "collapsed": true
   },
   "outputs": [],
   "source": [
    "air_reserve['visit_year'] = air_reserve['visit_datetime'].dt.year\n",
    "air_reserve['visit_month'] = air_reserve['visit_datetime'].dt.month\n",
    "air_reserve['visit_day'] = air_reserve['visit_datetime'].dt.day\n",
    "air_reserve['reserve_year'] = air_reserve['reserve_datetime'].dt.year\n",
    "air_reserve['reserve_month'] = air_reserve['reserve_datetime'].dt.month\n",
    "air_reserve['reserve_day'] = air_reserve['reserve_datetime'].dt.day\n",
    "\n",
    "air_reserve.drop(['visit_datetime','reserve_datetime'], axis=1, inplace=True)\n",
    "\n",
    "date_info['calendar_year'] = date_info['calendar_date'].dt.year\n",
    "date_info['calendar_month'] = date_info['calendar_date'].dt.month\n",
    "date_info['calendar_day'] = date_info['calendar_date'].dt.day\n",
    "\n",
    "date_info.drop(['calendar_date'], axis=1, inplace=True)\n",
    "\n",
    "air_visit['visit_year'] = air_visit['visit_date'].dt.year\n",
    "air_visit['visit_month'] = air_visit['visit_date'].dt.month\n",
    "air_visit['visit_day'] = air_visit['visit_date'].dt.day\n",
    "\n",
    "air_visit.drop(['visit_date'], axis=1, inplace=True)"
   ]
  },
  {
   "cell_type": "code",
   "execution_count": 10,
   "metadata": {},
   "outputs": [
    {
     "data": {
      "text/plain": [
       "(26532, 8)"
      ]
     },
     "execution_count": 10,
     "metadata": {},
     "output_type": "execute_result"
    }
   ],
   "source": [
    "hpg_reserve = pd.merge(hpg_reserve, store_relation, on='hpg_store_id', how='inner')\n",
    "hpg_reserve.drop(['hpg_store_id'], axis=1, inplace=True)\n",
    "hpg_reserve.shape"
   ]
  },
  {
   "cell_type": "code",
   "execution_count": 11,
   "metadata": {},
   "outputs": [
    {
     "data": {
      "text/html": [
       "<div>\n",
       "<style>\n",
       "    .dataframe thead tr:only-child th {\n",
       "        text-align: right;\n",
       "    }\n",
       "\n",
       "    .dataframe thead th {\n",
       "        text-align: left;\n",
       "    }\n",
       "\n",
       "    .dataframe tbody tr th {\n",
       "        vertical-align: top;\n",
       "    }\n",
       "</style>\n",
       "<table border=\"1\" class=\"dataframe\">\n",
       "  <thead>\n",
       "    <tr style=\"text-align: right;\">\n",
       "      <th></th>\n",
       "      <th>visit_year</th>\n",
       "      <th>visit_month</th>\n",
       "      <th>visit_day</th>\n",
       "      <th>reserve_year</th>\n",
       "      <th>reserve_month</th>\n",
       "      <th>reserve_day</th>\n",
       "      <th>reserve_visitors</th>\n",
       "      <th>air_store_id</th>\n",
       "    </tr>\n",
       "  </thead>\n",
       "  <tbody>\n",
       "    <tr>\n",
       "      <th>0</th>\n",
       "      <td>2016</td>\n",
       "      <td>1</td>\n",
       "      <td>9</td>\n",
       "      <td>2016</td>\n",
       "      <td>1</td>\n",
       "      <td>7</td>\n",
       "      <td>2</td>\n",
       "      <td>air_cbe867adcf44e14f</td>\n",
       "    </tr>\n",
       "    <tr>\n",
       "      <th>1</th>\n",
       "      <td>2016</td>\n",
       "      <td>1</td>\n",
       "      <td>11</td>\n",
       "      <td>2016</td>\n",
       "      <td>1</td>\n",
       "      <td>10</td>\n",
       "      <td>8</td>\n",
       "      <td>air_cbe867adcf44e14f</td>\n",
       "    </tr>\n",
       "    <tr>\n",
       "      <th>2</th>\n",
       "      <td>2016</td>\n",
       "      <td>1</td>\n",
       "      <td>14</td>\n",
       "      <td>2016</td>\n",
       "      <td>1</td>\n",
       "      <td>6</td>\n",
       "      <td>11</td>\n",
       "      <td>air_cbe867adcf44e14f</td>\n",
       "    </tr>\n",
       "    <tr>\n",
       "      <th>3</th>\n",
       "      <td>2016</td>\n",
       "      <td>1</td>\n",
       "      <td>15</td>\n",
       "      <td>2016</td>\n",
       "      <td>1</td>\n",
       "      <td>13</td>\n",
       "      <td>8</td>\n",
       "      <td>air_cbe867adcf44e14f</td>\n",
       "    </tr>\n",
       "    <tr>\n",
       "      <th>4</th>\n",
       "      <td>2016</td>\n",
       "      <td>1</td>\n",
       "      <td>18</td>\n",
       "      <td>2016</td>\n",
       "      <td>1</td>\n",
       "      <td>15</td>\n",
       "      <td>9</td>\n",
       "      <td>air_cbe867adcf44e14f</td>\n",
       "    </tr>\n",
       "  </tbody>\n",
       "</table>\n",
       "</div>"
      ],
      "text/plain": [
       "   visit_year  visit_month  visit_day  reserve_year  reserve_month  \\\n",
       "0        2016            1          9          2016              1   \n",
       "1        2016            1         11          2016              1   \n",
       "2        2016            1         14          2016              1   \n",
       "3        2016            1         15          2016              1   \n",
       "4        2016            1         18          2016              1   \n",
       "\n",
       "   reserve_day  reserve_visitors          air_store_id  \n",
       "0            7                 2  air_cbe867adcf44e14f  \n",
       "1           10                 8  air_cbe867adcf44e14f  \n",
       "2            6                11  air_cbe867adcf44e14f  \n",
       "3           13                 8  air_cbe867adcf44e14f  \n",
       "4           15                 9  air_cbe867adcf44e14f  "
      ]
     },
     "execution_count": 11,
     "metadata": {},
     "output_type": "execute_result"
    }
   ],
   "source": [
    "hpg_reserve.head()"
   ]
  },
  {
   "cell_type": "code",
   "execution_count": 12,
   "metadata": {
    "collapsed": true
   },
   "outputs": [],
   "source": [
    "air_reserve = pd.concat([air_reserve, hpg_reserve])"
   ]
  },
  {
   "cell_type": "code",
   "execution_count": 13,
   "metadata": {},
   "outputs": [
    {
     "data": {
      "text/html": [
       "<div>\n",
       "<style>\n",
       "    .dataframe thead tr:only-child th {\n",
       "        text-align: right;\n",
       "    }\n",
       "\n",
       "    .dataframe thead th {\n",
       "        text-align: left;\n",
       "    }\n",
       "\n",
       "    .dataframe tbody tr th {\n",
       "        vertical-align: top;\n",
       "    }\n",
       "</style>\n",
       "<table border=\"1\" class=\"dataframe\">\n",
       "  <thead>\n",
       "    <tr style=\"text-align: right;\">\n",
       "      <th></th>\n",
       "      <th>air_store_id</th>\n",
       "      <th>reserve_day</th>\n",
       "      <th>reserve_month</th>\n",
       "      <th>reserve_visitors</th>\n",
       "      <th>reserve_year</th>\n",
       "      <th>visit_day</th>\n",
       "      <th>visit_month</th>\n",
       "      <th>visit_year</th>\n",
       "    </tr>\n",
       "  </thead>\n",
       "  <tbody>\n",
       "    <tr>\n",
       "      <th>0</th>\n",
       "      <td>air_877f79706adbfb06</td>\n",
       "      <td>1</td>\n",
       "      <td>1</td>\n",
       "      <td>1</td>\n",
       "      <td>2016</td>\n",
       "      <td>1</td>\n",
       "      <td>1</td>\n",
       "      <td>2016</td>\n",
       "    </tr>\n",
       "    <tr>\n",
       "      <th>1</th>\n",
       "      <td>air_db4b38ebe7a7ceff</td>\n",
       "      <td>1</td>\n",
       "      <td>1</td>\n",
       "      <td>3</td>\n",
       "      <td>2016</td>\n",
       "      <td>1</td>\n",
       "      <td>1</td>\n",
       "      <td>2016</td>\n",
       "    </tr>\n",
       "    <tr>\n",
       "      <th>2</th>\n",
       "      <td>air_db4b38ebe7a7ceff</td>\n",
       "      <td>1</td>\n",
       "      <td>1</td>\n",
       "      <td>6</td>\n",
       "      <td>2016</td>\n",
       "      <td>1</td>\n",
       "      <td>1</td>\n",
       "      <td>2016</td>\n",
       "    </tr>\n",
       "    <tr>\n",
       "      <th>3</th>\n",
       "      <td>air_877f79706adbfb06</td>\n",
       "      <td>1</td>\n",
       "      <td>1</td>\n",
       "      <td>2</td>\n",
       "      <td>2016</td>\n",
       "      <td>1</td>\n",
       "      <td>1</td>\n",
       "      <td>2016</td>\n",
       "    </tr>\n",
       "    <tr>\n",
       "      <th>4</th>\n",
       "      <td>air_db80363d35f10926</td>\n",
       "      <td>1</td>\n",
       "      <td>1</td>\n",
       "      <td>5</td>\n",
       "      <td>2016</td>\n",
       "      <td>1</td>\n",
       "      <td>1</td>\n",
       "      <td>2016</td>\n",
       "    </tr>\n",
       "  </tbody>\n",
       "</table>\n",
       "</div>"
      ],
      "text/plain": [
       "           air_store_id  reserve_day  reserve_month  reserve_visitors  \\\n",
       "0  air_877f79706adbfb06            1              1                 1   \n",
       "1  air_db4b38ebe7a7ceff            1              1                 3   \n",
       "2  air_db4b38ebe7a7ceff            1              1                 6   \n",
       "3  air_877f79706adbfb06            1              1                 2   \n",
       "4  air_db80363d35f10926            1              1                 5   \n",
       "\n",
       "   reserve_year  visit_day  visit_month  visit_year  \n",
       "0          2016          1            1        2016  \n",
       "1          2016          1            1        2016  \n",
       "2          2016          1            1        2016  \n",
       "3          2016          1            1        2016  \n",
       "4          2016          1            1        2016  "
      ]
     },
     "execution_count": 13,
     "metadata": {},
     "output_type": "execute_result"
    }
   ],
   "source": [
    "air_reserve.head()"
   ]
  },
  {
   "cell_type": "code",
   "execution_count": 14,
   "metadata": {
    "collapsed": true
   },
   "outputs": [],
   "source": [
    "air_reserve = air_reserve.groupby(['air_store_id', 'visit_year', 'visit_month','visit_day'],\\\n",
    "                as_index=False).sum().drop(['reserve_day','reserve_month','reserve_year'], axis=1)"
   ]
  },
  {
   "cell_type": "code",
   "execution_count": 15,
   "metadata": {
    "collapsed": true
   },
   "outputs": [],
   "source": [
    "air_reserve = pd.merge(air_reserve, date_info, left_on=['visit_year','visit_month','visit_day'], right_on=['calendar_year','calendar_month','calendar_day'], how='left')\n",
    "air_reserve.drop(['calendar_year','calendar_month','calendar_day'], axis=1, inplace=True)"
   ]
  },
  {
   "cell_type": "code",
   "execution_count": 16,
   "metadata": {},
   "outputs": [
    {
     "data": {
      "text/html": [
       "<div>\n",
       "<style>\n",
       "    .dataframe thead tr:only-child th {\n",
       "        text-align: right;\n",
       "    }\n",
       "\n",
       "    .dataframe thead th {\n",
       "        text-align: left;\n",
       "    }\n",
       "\n",
       "    .dataframe tbody tr th {\n",
       "        vertical-align: top;\n",
       "    }\n",
       "</style>\n",
       "<table border=\"1\" class=\"dataframe\">\n",
       "  <thead>\n",
       "    <tr style=\"text-align: right;\">\n",
       "      <th></th>\n",
       "      <th>air_store_id</th>\n",
       "      <th>visit_year</th>\n",
       "      <th>visit_month</th>\n",
       "      <th>visit_day</th>\n",
       "      <th>reserve_visitors</th>\n",
       "      <th>day_of_week</th>\n",
       "      <th>holiday_flg</th>\n",
       "    </tr>\n",
       "  </thead>\n",
       "  <tbody>\n",
       "    <tr>\n",
       "      <th>0</th>\n",
       "      <td>air_00a91d42b08b08d9</td>\n",
       "      <td>2016</td>\n",
       "      <td>1</td>\n",
       "      <td>14</td>\n",
       "      <td>2</td>\n",
       "      <td>Thursday</td>\n",
       "      <td>0</td>\n",
       "    </tr>\n",
       "    <tr>\n",
       "      <th>1</th>\n",
       "      <td>air_00a91d42b08b08d9</td>\n",
       "      <td>2016</td>\n",
       "      <td>1</td>\n",
       "      <td>15</td>\n",
       "      <td>4</td>\n",
       "      <td>Friday</td>\n",
       "      <td>0</td>\n",
       "    </tr>\n",
       "    <tr>\n",
       "      <th>2</th>\n",
       "      <td>air_00a91d42b08b08d9</td>\n",
       "      <td>2016</td>\n",
       "      <td>1</td>\n",
       "      <td>16</td>\n",
       "      <td>2</td>\n",
       "      <td>Saturday</td>\n",
       "      <td>0</td>\n",
       "    </tr>\n",
       "    <tr>\n",
       "      <th>3</th>\n",
       "      <td>air_00a91d42b08b08d9</td>\n",
       "      <td>2016</td>\n",
       "      <td>1</td>\n",
       "      <td>22</td>\n",
       "      <td>2</td>\n",
       "      <td>Friday</td>\n",
       "      <td>0</td>\n",
       "    </tr>\n",
       "    <tr>\n",
       "      <th>4</th>\n",
       "      <td>air_00a91d42b08b08d9</td>\n",
       "      <td>2016</td>\n",
       "      <td>1</td>\n",
       "      <td>29</td>\n",
       "      <td>5</td>\n",
       "      <td>Friday</td>\n",
       "      <td>0</td>\n",
       "    </tr>\n",
       "  </tbody>\n",
       "</table>\n",
       "</div>"
      ],
      "text/plain": [
       "           air_store_id  visit_year  visit_month  visit_day  reserve_visitors  \\\n",
       "0  air_00a91d42b08b08d9        2016            1         14                 2   \n",
       "1  air_00a91d42b08b08d9        2016            1         15                 4   \n",
       "2  air_00a91d42b08b08d9        2016            1         16                 2   \n",
       "3  air_00a91d42b08b08d9        2016            1         22                 2   \n",
       "4  air_00a91d42b08b08d9        2016            1         29                 5   \n",
       "\n",
       "  day_of_week  holiday_flg  \n",
       "0    Thursday            0  \n",
       "1      Friday            0  \n",
       "2    Saturday            0  \n",
       "3      Friday            0  \n",
       "4      Friday            0  "
      ]
     },
     "execution_count": 16,
     "metadata": {},
     "output_type": "execute_result"
    }
   ],
   "source": [
    "air_reserve.head()"
   ]
  },
  {
   "cell_type": "code",
   "execution_count": 17,
   "metadata": {},
   "outputs": [
    {
     "data": {
      "text/plain": [
       "0"
      ]
     },
     "execution_count": 17,
     "metadata": {},
     "output_type": "execute_result"
    }
   ],
   "source": [
    "air_reserve.isnull().values.sum()"
   ]
  },
  {
   "cell_type": "code",
   "execution_count": 18,
   "metadata": {},
   "outputs": [
    {
     "data": {
      "text/plain": [
       "(42193, 11)"
      ]
     },
     "execution_count": 18,
     "metadata": {},
     "output_type": "execute_result"
    }
   ],
   "source": [
    "air_reserve = pd.merge(air_reserve, air_store_info, on='air_store_id', how='left')\n",
    "air_reserve.shape"
   ]
  },
  {
   "cell_type": "code",
   "execution_count": 19,
   "metadata": {
    "collapsed": true
   },
   "outputs": [],
   "source": [
    "df = pd.merge(air_reserve, air_visit, on=['air_store_id','visit_year','visit_month','visit_day'], how='left')"
   ]
  },
  {
   "cell_type": "code",
   "execution_count": 20,
   "metadata": {},
   "outputs": [
    {
     "data": {
      "text/plain": [
       "(42193, 12)"
      ]
     },
     "execution_count": 20,
     "metadata": {},
     "output_type": "execute_result"
    }
   ],
   "source": [
    "df.shape"
   ]
  },
  {
   "cell_type": "code",
   "execution_count": 24,
   "metadata": {},
   "outputs": [
    {
     "name": "stdout",
     "output_type": "stream",
     "text": [
      "<class 'pandas.core.frame.DataFrame'>\n",
      "Int64Index: 42193 entries, 0 to 42192\n",
      "Data columns (total 12 columns):\n",
      "air_store_id        42193 non-null object\n",
      "visit_year          42193 non-null int64\n",
      "visit_month         42193 non-null int64\n",
      "visit_day           42193 non-null int64\n",
      "reserve_visitors    42193 non-null int64\n",
      "day_of_week         42193 non-null object\n",
      "holiday_flg         42193 non-null int64\n",
      "air_genre_name      42193 non-null object\n",
      "air_area_name       42193 non-null object\n",
      "latitude            42193 non-null float64\n",
      "longitude           42193 non-null float64\n",
      "visitors            35698 non-null float64\n",
      "dtypes: float64(3), int64(5), object(4)\n",
      "memory usage: 4.2+ MB\n"
     ]
    }
   ],
   "source": [
    "df.info()"
   ]
  },
  {
   "cell_type": "code",
   "execution_count": 23,
   "metadata": {},
   "outputs": [
    {
     "data": {
      "text/plain": [
       "(42193, 12)"
      ]
     },
     "execution_count": 23,
     "metadata": {},
     "output_type": "execute_result"
    }
   ],
   "source": [
    "df.shape"
   ]
  },
  {
   "cell_type": "code",
   "execution_count": 25,
   "metadata": {
    "collapsed": true
   },
   "outputs": [],
   "source": [
    "df.air_genre_name = df.air_genre_name.replace(' ', '_', regex=True)\n",
    "df.air_genre_name = df.air_genre_name.replace('/', '_', regex=True)\n",
    "df=df.rename(columns = {'air_genre_name':'genre','day_of_week':'dow'})"
   ]
  },
  {
   "cell_type": "code",
   "execution_count": 26,
   "metadata": {},
   "outputs": [
    {
     "data": {
      "text/plain": [
       "<matplotlib.axes._subplots.AxesSubplot at 0x7f38d1405390>"
      ]
     },
     "execution_count": 26,
     "metadata": {},
     "output_type": "execute_result"
    },
    {
     "data": {
      "image/png": "[encoded data removed]",
      "text/plain": [
       "<matplotlib.figure.Figure at 0x7f38d28dcb70>"
      ]
     },
     "metadata": {},
     "output_type": "display_data"
    }
   ],
   "source": [
    "df.visitors.plot()"
   ]
  },
  {
   "cell_type": "code",
   "execution_count": 25,
   "metadata": {},
   "outputs": [
    {
     "data": {
      "text/plain": [
       "35698"
      ]
     },
     "execution_count": 25,
     "metadata": {},
     "output_type": "execute_result"
    }
   ],
   "source": [
    "df.visitors.notnull().values.sum()"
   ]
  },
  {
   "cell_type": "code",
   "execution_count": 26,
   "metadata": {},
   "outputs": [
    {
     "data": {
      "text/plain": [
       "(42193, 12)"
      ]
     },
     "execution_count": 26,
     "metadata": {},
     "output_type": "execute_result"
    }
   ],
   "source": [
    "df.shape"
   ]
  },
  {
   "cell_type": "code",
   "execution_count": 30,
   "metadata": {
    "collapsed": true
   },
   "outputs": [],
   "source": [
    "def RMSLE(predicted, actual):\n",
    "    msle = (np.log(predicted+1) - np.log(actual+1))**2\n",
    "    rmsle = np.sqrt(msle.sum()/msle.count())\n",
    "    return rmsle"
   ]
  },
  {
   "cell_type": "code",
   "execution_count": 33,
   "metadata": {},
   "outputs": [
    {
     "name": "stdout",
     "output_type": "stream",
     "text": [
      "<class 'pandas.core.frame.DataFrame'>\n",
      "Int64Index: 42193 entries, 1167 to 24789\n",
      "Data columns (total 31 columns):\n",
      "air_store_id                          42193 non-null object\n",
      "visit_year                            42193 non-null int64\n",
      "visit_month                           42193 non-null int64\n",
      "visit_day                             42193 non-null int64\n",
      "reserve_visitors                      42193 non-null int64\n",
      "holiday_flg                           42193 non-null int64\n",
      "air_area_name                         42193 non-null object\n",
      "latitude                              42193 non-null float64\n",
      "longitude                             42193 non-null float64\n",
      "visitors                              35698 non-null float64\n",
      "genre_Asian                           42193 non-null uint8\n",
      "genre_Bar_Cocktail                    42193 non-null uint8\n",
      "genre_Cafe_Sweets                     42193 non-null uint8\n",
      "genre_Creative_cuisine                42193 non-null uint8\n",
      "genre_Dining_bar                      42193 non-null uint8\n",
      "genre_International_cuisine           42193 non-null uint8\n",
      "genre_Italian_French                  42193 non-null uint8\n",
      "genre_Izakaya                         42193 non-null uint8\n",
      "genre_Japanese_food                   42193 non-null uint8\n",
      "genre_Karaoke_Party                   42193 non-null uint8\n",
      "genre_Okonomiyaki_Monja_Teppanyaki    42193 non-null uint8\n",
      "genre_Other                           42193 non-null uint8\n",
      "genre_Western_food                    42193 non-null uint8\n",
      "genre_Yakiniku_Korean_food            42193 non-null uint8\n",
      "dow_Friday                            42193 non-null uint8\n",
      "dow_Monday                            42193 non-null uint8\n",
      "dow_Saturday                          42193 non-null uint8\n",
      "dow_Sunday                            42193 non-null uint8\n",
      "dow_Thursday                          42193 non-null uint8\n",
      "dow_Tuesday                           42193 non-null uint8\n",
      "dow_Wednesday                         42193 non-null uint8\n",
      "dtypes: float64(3), int64(5), object(2), uint8(21)\n",
      "memory usage: 4.4+ MB\n"
     ]
    }
   ],
   "source": [
    "df.info()"
   ]
  },
  {
   "cell_type": "code",
   "execution_count": 32,
   "metadata": {
    "collapsed": true
   },
   "outputs": [],
   "source": [
    "df = pd.get_dummies(df, columns=['genre','dow'])"
   ]
  },
  {
   "cell_type": "code",
   "execution_count": 34,
   "metadata": {
    "collapsed": true
   },
   "outputs": [],
   "source": [
    "df.drop(['air_store_id','air_area_name','latitude','longitude'], axis=1, inplace=True)"
   ]
  },
  {
   "cell_type": "code",
   "execution_count": 35,
   "metadata": {},
   "outputs": [
    {
     "name": "stdout",
     "output_type": "stream",
     "text": [
      "<class 'pandas.core.frame.DataFrame'>\n",
      "Int64Index: 42193 entries, 1167 to 24789\n",
      "Data columns (total 27 columns):\n",
      "visit_year                            42193 non-null int64\n",
      "visit_month                           42193 non-null int64\n",
      "visit_day                             42193 non-null int64\n",
      "reserve_visitors                      42193 non-null int64\n",
      "holiday_flg                           42193 non-null int64\n",
      "visitors                              35698 non-null float64\n",
      "genre_Asian                           42193 non-null uint8\n",
      "genre_Bar_Cocktail                    42193 non-null uint8\n",
      "genre_Cafe_Sweets                     42193 non-null uint8\n",
      "genre_Creative_cuisine                42193 non-null uint8\n",
      "genre_Dining_bar                      42193 non-null uint8\n",
      "genre_International_cuisine           42193 non-null uint8\n",
      "genre_Italian_French                  42193 non-null uint8\n",
      "genre_Izakaya                         42193 non-null uint8\n",
      "genre_Japanese_food                   42193 non-null uint8\n",
      "genre_Karaoke_Party                   42193 non-null uint8\n",
      "genre_Okonomiyaki_Monja_Teppanyaki    42193 non-null uint8\n",
      "genre_Other                           42193 non-null uint8\n",
      "genre_Western_food                    42193 non-null uint8\n",
      "genre_Yakiniku_Korean_food            42193 non-null uint8\n",
      "dow_Friday                            42193 non-null uint8\n",
      "dow_Monday                            42193 non-null uint8\n",
      "dow_Saturday                          42193 non-null uint8\n",
      "dow_Sunday                            42193 non-null uint8\n",
      "dow_Thursday                          42193 non-null uint8\n",
      "dow_Tuesday                           42193 non-null uint8\n",
      "dow_Wednesday                         42193 non-null uint8\n",
      "dtypes: float64(1), int64(5), uint8(21)\n",
      "memory usage: 3.1 MB\n"
     ]
    }
   ],
   "source": [
    "df.info()"
   ]
  },
  {
   "cell_type": "code",
   "execution_count": 36,
   "metadata": {
    "collapsed": true
   },
   "outputs": [],
   "source": [
    "from sklearn import preprocessing\n",
    "from sklearn.model_selection import GridSearchCV\n",
    "from sklearn.ensemble import RandomForestRegressor"
   ]
  },
  {
   "cell_type": "code",
   "execution_count": 37,
   "metadata": {
    "collapsed": true
   },
   "outputs": [],
   "source": [
    "regr = RandomForestRegressor()"
   ]
  },
  {
   "cell_type": "code",
   "execution_count": 45,
   "metadata": {
    "collapsed": true
   },
   "outputs": [],
   "source": [
    "df = df.notnull()"
   ]
  },
  {
   "cell_type": "code",
   "execution_count": 54,
   "metadata": {
    "collapsed": true
   },
   "outputs": [],
   "source": [
    "X = df.drop('visitors', axis=1)\n",
    "y = df['visitors'].values"
   ]
  },
  {
   "cell_type": "code",
   "execution_count": 57,
   "metadata": {},
   "outputs": [
    {
     "data": {
      "text/plain": [
       "array([False,  True,  True, ..., False, False, False], dtype=bool)"
      ]
     },
     "execution_count": 57,
     "metadata": {},
     "output_type": "execute_result"
    }
   ],
   "source": [
    "y"
   ]
  },
  {
   "cell_type": "code",
   "execution_count": 47,
   "metadata": {
    "collapsed": true
   },
   "outputs": [],
   "source": [
    "from sklearn.model_selection import train_test_split\n",
    "X_train, X_test, y_train, y_test = train_test_split(X, y, test_size=0.2, random_state=42)"
   ]
  },
  {
   "cell_type": "code",
   "execution_count": 48,
   "metadata": {},
   "outputs": [
    {
     "data": {
      "text/plain": [
       "RandomForestRegressor(bootstrap=True, criterion='mse', max_depth=None,\n",
       "           max_features='auto', max_leaf_nodes=None,\n",
       "           min_impurity_decrease=0.0, min_impurity_split=None,\n",
       "           min_samples_leaf=1, min_samples_split=2,\n",
       "           min_weight_fraction_leaf=0.0, n_estimators=10, n_jobs=1,\n",
       "           oob_score=False, random_state=None, verbose=0, warm_start=False)"
      ]
     },
     "execution_count": 48,
     "metadata": {},
     "output_type": "execute_result"
    }
   ],
   "source": [
    "regr.fit(X_train,y_train)"
   ]
  },
  {
   "cell_type": "code",
   "execution_count": 50,
   "metadata": {
    "collapsed": true
   },
   "outputs": [],
   "source": [
    "y_pred = regr.predict(X_test)"
   ]
  },
  {
   "cell_type": "code",
   "execution_count": 53,
   "metadata": {},
   "outputs": [
    {
     "data": {
      "text/plain": [
       "array([ 0.84673816,  0.84673816,  0.84673816, ...,  0.84673816,\n",
       "        0.84673816,  0.84673816])"
      ]
     },
     "execution_count": 53,
     "metadata": {},
     "output_type": "execute_result"
    }
   ],
   "source": [
    "y_pred"
   ]
  },
  {
   "cell_type": "code",
   "execution_count": null,
   "metadata": {
    "collapsed": true
   },
   "outputs": [],
   "source": []
  }
 ],
 "metadata": {
  "kernelspec": {
   "display_name": "Python 3",
   "language": "python",
   "name": "python3"
  },
  "language_info": {
   "codemirror_mode": {
    "name": "ipython",
    "version": 3
   },
   "file_extension": ".py",
   "mimetype": "text/x-python",
   "name": "python",
   "nbconvert_exporter": "python",
   "pygments_lexer": "ipython3",
   "version": "3.6.3"
  }
 },
 "nbformat": 4,
 "nbformat_minor": 2
}
